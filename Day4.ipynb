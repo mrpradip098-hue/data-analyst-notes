{
  "nbformat": 4,
  "nbformat_minor": 0,
  "metadata": {
    "colab": {
      "provenance": []
    },
    "kernelspec": {
      "name": "python3",
      "display_name": "Python 3"
    },
    "language_info": {
      "name": "python"
    }
  },
  "cells": [
    {
      "cell_type": "code",
      "execution_count": null,
      "metadata": {
        "id": "lEP5v0cgeOAN"
      },
      "outputs": [],
      "source": [
        "# Whilw loop"
      ]
    },
    {
      "cell_type": "code",
      "source": [
        "i = 1\n",
        "while i <= 5:\n",
        "  print(i)\n",
        "  i= i + 1"
      ],
      "metadata": {
        "colab": {
          "base_uri": "https://localhost:8080/"
        },
        "id": "0_Diz95Af61S",
        "outputId": "3e5ae846-9db2-46d9-b733-9eb8e99993d4"
      },
      "execution_count": null,
      "outputs": [
        {
          "output_type": "stream",
          "name": "stdout",
          "text": [
            "1\n",
            "2\n",
            "3\n",
            "4\n",
            "5\n"
          ]
        }
      ]
    },
    {
      "cell_type": "code",
      "source": [
        "i = 1\n",
        "total = 0\n",
        "while i <= 10:\n",
        "  total = total + i\n",
        "  i +=1\n",
        "print (\"Total Sum:-\", total)"
      ],
      "metadata": {
        "colab": {
          "base_uri": "https://localhost:8080/"
        },
        "id": "gFF4yblKgPgq",
        "outputId": "2e66248b-cbe8-4ba8-b4b0-45f38675c486"
      },
      "execution_count": null,
      "outputs": [
        {
          "output_type": "stream",
          "name": "stdout",
          "text": [
            "Total Sum:- 55\n"
          ]
        }
      ]
    },
    {
      "cell_type": "code",
      "source": [
        "# Comperhension"
      ],
      "metadata": {
        "id": "Wxun14dphB9b"
      },
      "execution_count": null,
      "outputs": []
    },
    {
      "cell_type": "code",
      "source": [
        "list = [ ]\n",
        "for i in range(1,6):\n",
        "  list.append(i**2)\n",
        "\n",
        "print(list)"
      ],
      "metadata": {
        "colab": {
          "base_uri": "https://localhost:8080/"
        },
        "id": "lcd-liVhjqhh",
        "outputId": "31d25af2-5628-4c5d-87ae-0c48c8224d0f"
      },
      "execution_count": 7,
      "outputs": [
        {
          "output_type": "stream",
          "name": "stdout",
          "text": [
            "[1, 4, 9, 16, 25]\n"
          ]
        }
      ]
    },
    {
      "cell_type": "code",
      "source": [
        "sq = [i ** 2 for i in range (1,6)]"
      ],
      "metadata": {
        "id": "tCn4VWudkve4"
      },
      "execution_count": 8,
      "outputs": []
    },
    {
      "cell_type": "code",
      "source": [
        "sq"
      ],
      "metadata": {
        "colab": {
          "base_uri": "https://localhost:8080/"
        },
        "id": "dSN2VF6_lc0C",
        "outputId": "e8df9998-8828-4aa9-8f2c-a2663922f184"
      },
      "execution_count": 9,
      "outputs": [
        {
          "output_type": "execute_result",
          "data": {
            "text/plain": [
              "[1, 4, 9, 16, 25]"
            ]
          },
          "metadata": {},
          "execution_count": 9
        }
      ]
    },
    {
      "cell_type": "code",
      "source": [
        "sq1 = {i ** 2 for i in range (1,6)}"
      ],
      "metadata": {
        "id": "aSBrpWhdld71"
      },
      "execution_count": 10,
      "outputs": []
    },
    {
      "cell_type": "code",
      "source": [
        "sq1"
      ],
      "metadata": {
        "colab": {
          "base_uri": "https://localhost:8080/"
        },
        "id": "AVH6Lp4mlzW7",
        "outputId": "36d7463b-59ff-40b8-830f-c8df0923e9da"
      },
      "execution_count": 11,
      "outputs": [
        {
          "output_type": "execute_result",
          "data": {
            "text/plain": [
              "{1, 4, 9, 16, 25}"
            ]
          },
          "metadata": {},
          "execution_count": 11
        }
      ]
    },
    {
      "cell_type": "code",
      "source": [
        "sq2 =  (i ** 2 for i in range (1,6))"
      ],
      "metadata": {
        "id": "WbUWeqQHl0Zs"
      },
      "execution_count": 12,
      "outputs": []
    },
    {
      "cell_type": "code",
      "source": [
        "sq2"
      ],
      "metadata": {
        "colab": {
          "base_uri": "https://localhost:8080/"
        },
        "id": "r9ObGX4vmkKJ",
        "outputId": "73c4314e-bda7-44b4-d502-1c37d78fab6c"
      },
      "execution_count": 13,
      "outputs": [
        {
          "output_type": "execute_result",
          "data": {
            "text/plain": [
              "<generator object <genexpr> at 0x7fcac53275e0>"
            ]
          },
          "metadata": {},
          "execution_count": 13
        }
      ]
    },
    {
      "cell_type": "code",
      "source": [
        "tuple(sq2)"
      ],
      "metadata": {
        "colab": {
          "base_uri": "https://localhost:8080/"
        },
        "id": "XPlSvJ3UmlHU",
        "outputId": "8fdfc573-3caf-4eef-f1b4-b3e10d5acd17"
      },
      "execution_count": 14,
      "outputs": [
        {
          "output_type": "execute_result",
          "data": {
            "text/plain": [
              "(1, 4, 9, 16, 25)"
            ]
          },
          "metadata": {},
          "execution_count": 14
        }
      ]
    },
    {
      "cell_type": "markdown",
      "source": [
        "# Conditional Statements-\n",
        "- If Else\n",
        "- If Elif Else"
      ],
      "metadata": {
        "id": "QOZ9yUPFmyNn"
      }
    },
    {
      "cell_type": "code",
      "source": [
        "age = 18\n",
        "if age >=18:\n",
        "  print(\"you are eligible for voting\")\n",
        "else:\n",
        "  print(\"you are not eligible\")"
      ],
      "metadata": {
        "colab": {
          "base_uri": "https://localhost:8080/"
        },
        "id": "MaDnoMGdmouT",
        "outputId": "48dad675-c340-44f6-aded-71941c59e328"
      },
      "execution_count": 15,
      "outputs": [
        {
          "output_type": "stream",
          "name": "stdout",
          "text": [
            "you are eligible for voting\n"
          ]
        }
      ]
    },
    {
      "cell_type": "code",
      "source": [
        "age = int(input(\"enter your age:-\"))\n",
        "if age >=18:\n",
        "  print(\"you are eligible for voting\")\n",
        "else:\n",
        "  print(\"you are not eligible\")"
      ],
      "metadata": {
        "colab": {
          "base_uri": "https://localhost:8080/"
        },
        "id": "2GpJptSqnY4f",
        "outputId": "cc7c2d87-3441-4804-9da3-d21261f55836"
      },
      "execution_count": 16,
      "outputs": [
        {
          "output_type": "stream",
          "name": "stdout",
          "text": [
            "enter your age:-45\n",
            "you are eligible for voting\n"
          ]
        }
      ]
    },
    {
      "cell_type": "code",
      "source": [
        "my_password = 789456\n",
        "my_username = \"pratiksha\"\n",
        "user = str(input(\"Enter Your Name:-\"))\n",
        "password = int(input(\"Enter your password:-\"))\n",
        "\n",
        "if user == my_username:\n",
        "  if password == my_password:\n",
        "    print(\"Welcome\",my_username)\n",
        "  else:\n",
        "    print(\"invalid Password\")\n",
        "else:\n",
        "  print(\"Invalid Username\")"
      ],
      "metadata": {
        "colab": {
          "base_uri": "https://localhost:8080/"
        },
        "id": "pKEotqdJn_fz",
        "outputId": "e255bde1-bb66-4818-86e2-7515b256d35c"
      },
      "execution_count": 17,
      "outputs": [
        {
          "output_type": "stream",
          "name": "stdout",
          "text": [
            "Enter Your Name:-pratiksha\n",
            "Enter your password:-789456\n",
            "Welcome pratiksha\n"
          ]
        }
      ]
    },
    {
      "cell_type": "code",
      "source": [
        "num = int(input(\"Enter a number a number (0 for stop):-\"))\n",
        "while num != 0:\n",
        "  if num % 2 == 0:\n",
        "    print(\"even no\")\n",
        "  else:\n",
        "    print(\"odd no\")\n",
        "  num = int(input(\"Enter a number (0 for stop):-\"))"
      ],
      "metadata": {
        "colab": {
          "base_uri": "https://localhost:8080/"
        },
        "id": "zFaWUtsps0ZO",
        "outputId": "65becf2c-1560-4121-864a-09b8c963dc31"
      },
      "execution_count": null,
      "outputs": [
        {
          "output_type": "stream",
          "name": "stdout",
          "text": [
            "Enter a number a number (0 for stop):-5\n",
            "odd no\n",
            "Enter a number (0 for stop):-2\n",
            "even no\n"
          ]
        }
      ]
    },
    {
      "cell_type": "code",
      "source": [],
      "metadata": {
        "id": "n9QeOEEGtqMQ"
      },
      "execution_count": null,
      "outputs": []
    }
  ]
}