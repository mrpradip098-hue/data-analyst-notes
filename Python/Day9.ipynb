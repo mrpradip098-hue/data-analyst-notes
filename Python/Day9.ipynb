{
  "nbformat": 4,
  "nbformat_minor": 0,
  "metadata": {
    "colab": {
      "provenance": []
    },
    "kernelspec": {
      "name": "python3",
      "display_name": "Python 3"
    },
    "language_info": {
      "name": "python"
    }
  },
  "cells": [
    {
      "cell_type": "code",
      "execution_count": 1,
      "metadata": {
        "id": "_mGpCE1axtZQ"
      },
      "outputs": [],
      "source": [
        "import numpy as np"
      ]
    },
    {
      "cell_type": "code",
      "source": [
        "# Create a 1D array"
      ],
      "metadata": {
        "id": "5m1KVmRdyETr"
      },
      "execution_count": 2,
      "outputs": []
    },
    {
      "cell_type": "code",
      "source": [
        "arr1 = np.array([1,2,3,4,5])"
      ],
      "metadata": {
        "id": "T1KYUVsDyJPt"
      },
      "execution_count": 3,
      "outputs": []
    },
    {
      "cell_type": "code",
      "source": [
        "print(\"1D Array:\",arr1)"
      ],
      "metadata": {
        "colab": {
          "base_uri": "https://localhost:8080/"
        },
        "id": "cmQg8OdxyRXH",
        "outputId": "3ce58c62-7f10-40f3-9b95-68808341fbc3"
      },
      "execution_count": 4,
      "outputs": [
        {
          "output_type": "stream",
          "name": "stdout",
          "text": [
            "1D Array: [1 2 3 4 5]\n"
          ]
        }
      ]
    },
    {
      "cell_type": "code",
      "source": [
        "# Create a ZD array"
      ],
      "metadata": {
        "id": "dQh0qNpGya0s"
      },
      "execution_count": 5,
      "outputs": []
    },
    {
      "cell_type": "code",
      "source": [
        "arr2 = np.array([[1,2,3],[4,5,6]])"
      ],
      "metadata": {
        "id": "w904OeEtyfTZ"
      },
      "execution_count": 6,
      "outputs": []
    },
    {
      "cell_type": "code",
      "source": [
        "print(\"2D Array:\",arr2)"
      ],
      "metadata": {
        "colab": {
          "base_uri": "https://localhost:8080/"
        },
        "id": "U3TxdeWLyq5y",
        "outputId": "aaae6b31-d0b6-41d9-feca-49ed10ef3845"
      },
      "execution_count": 7,
      "outputs": [
        {
          "output_type": "stream",
          "name": "stdout",
          "text": [
            "2D Array: [[1 2 3]\n",
            " [4 5 6]]\n"
          ]
        }
      ]
    },
    {
      "cell_type": "code",
      "source": [
        "zeros = np.zeros((2,3))"
      ],
      "metadata": {
        "id": "G72ErUOMy0S9"
      },
      "execution_count": 8,
      "outputs": []
    },
    {
      "cell_type": "code",
      "source": [
        "ones =np.ones((3,3))"
      ],
      "metadata": {
        "id": "8FaPSdf4y9H2"
      },
      "execution_count": 9,
      "outputs": []
    },
    {
      "cell_type": "code",
      "source": [
        "randoms = np.random.rand(2,2)"
      ],
      "metadata": {
        "id": "lsQmKCGLzCo_"
      },
      "execution_count": 10,
      "outputs": []
    },
    {
      "cell_type": "code",
      "source": [
        "print(\"Zeros:\",zeros)"
      ],
      "metadata": {
        "colab": {
          "base_uri": "https://localhost:8080/"
        },
        "id": "oz6H9A8OzL8v",
        "outputId": "3bdf3ab1-0d72-4179-c296-059d259c30d8"
      },
      "execution_count": 11,
      "outputs": [
        {
          "output_type": "stream",
          "name": "stdout",
          "text": [
            "Zeros: [[0. 0. 0.]\n",
            " [0. 0. 0.]]\n"
          ]
        }
      ]
    },
    {
      "cell_type": "code",
      "source": [
        "print(\"Ones:\",ones)"
      ],
      "metadata": {
        "colab": {
          "base_uri": "https://localhost:8080/"
        },
        "id": "Aw2-LNqkzWOj",
        "outputId": "193cabd5-03d3-478e-b507-f7bfd3dcc9ab"
      },
      "execution_count": 12,
      "outputs": [
        {
          "output_type": "stream",
          "name": "stdout",
          "text": [
            "Ones: [[1. 1. 1.]\n",
            " [1. 1. 1.]\n",
            " [1. 1. 1.]]\n"
          ]
        }
      ]
    },
    {
      "cell_type": "code",
      "source": [
        "print(\"Random:\",randoms)"
      ],
      "metadata": {
        "colab": {
          "base_uri": "https://localhost:8080/"
        },
        "id": "wo_Nf-K0zeJe",
        "outputId": "1e3795a0-d078-4247-ac47-35cc0ea797da"
      },
      "execution_count": 13,
      "outputs": [
        {
          "output_type": "stream",
          "name": "stdout",
          "text": [
            "Random: [[0.95921969 0.67997149]\n",
            " [0.38583344 0.06625968]]\n"
          ]
        }
      ]
    },
    {
      "cell_type": "code",
      "source": [
        "a = np.array([10,20,30])\n",
        "b = np.array([1,2,3])"
      ],
      "metadata": {
        "id": "usAJcbD6zkLk"
      },
      "execution_count": 14,
      "outputs": []
    },
    {
      "cell_type": "code",
      "source": [
        "print(\"Addition:\",a+b)"
      ],
      "metadata": {
        "colab": {
          "base_uri": "https://localhost:8080/"
        },
        "id": "ja83tu4jz0-5",
        "outputId": "5c5eeae0-1910-49ea-cc21-4fdd8534e614"
      },
      "execution_count": 15,
      "outputs": [
        {
          "output_type": "stream",
          "name": "stdout",
          "text": [
            "Addition: [11 22 33]\n"
          ]
        }
      ]
    },
    {
      "cell_type": "code",
      "source": [
        "print(\"Subtraction:\", a-b)\n",
        "print(\"Multiplication:\",a*b)\n",
        "print(\"Divison:\",a/b)"
      ],
      "metadata": {
        "colab": {
          "base_uri": "https://localhost:8080/"
        },
        "id": "yZYD9PmIz9aa",
        "outputId": "c1a30b89-6317-45e8-8cde-53bd1e2737bb"
      },
      "execution_count": 17,
      "outputs": [
        {
          "output_type": "stream",
          "name": "stdout",
          "text": [
            "Subtraction: [ 9 18 27]\n",
            "Multiplication: [10 40 90]\n",
            "Divison: [10. 10. 10.]\n"
          ]
        }
      ]
    },
    {
      "cell_type": "code",
      "source": [
        "arr = np.array([[1,2,3],[4,5,6]])"
      ],
      "metadata": {
        "id": "2kVNE0qR0c7K"
      },
      "execution_count": 18,
      "outputs": []
    },
    {
      "cell_type": "code",
      "source": [
        "print(\"Shape:\",arr.shape)\n",
        "print(\"Size:\",arr.size)\n",
        "print(\"Data type:\",arr.dtype)"
      ],
      "metadata": {
        "colab": {
          "base_uri": "https://localhost:8080/"
        },
        "id": "dekP82dj1AHk",
        "outputId": "eb098b0a-00c0-4f7e-a5ad-e9a615b73d23"
      },
      "execution_count": 21,
      "outputs": [
        {
          "output_type": "stream",
          "name": "stdout",
          "text": [
            "Shape: (2, 3)\n",
            "Size: 6\n",
            "Data type: int64\n"
          ]
        }
      ]
    },
    {
      "cell_type": "code",
      "source": [
        "arr = np.array([10,20,30,40,50])"
      ],
      "metadata": {
        "id": "fzb9mZeh1V5C"
      },
      "execution_count": 22,
      "outputs": []
    },
    {
      "cell_type": "code",
      "source": [
        "print(\"Mean:\",np.mean(arr))\n",
        "print(\"Median:\",np.median(arr))\n",
        "print(\"Standard Deviation:\",np.std(arr))\n",
        "print(\"Sum:\", np.sum(arr))"
      ],
      "metadata": {
        "colab": {
          "base_uri": "https://localhost:8080/"
        },
        "id": "xIDeybQf131x",
        "outputId": "2c2eb5cd-9fa9-4aa8-eb30-ad7c9e4ee54a"
      },
      "execution_count": 23,
      "outputs": [
        {
          "output_type": "stream",
          "name": "stdout",
          "text": [
            "Mean: 30.0\n",
            "Median: 30.0\n",
            "Standard Deviation: 14.142135623730951\n",
            "Sum: 150\n"
          ]
        }
      ]
    },
    {
      "cell_type": "code",
      "source": [
        "arr = np.array ([10,20,30,40,50])"
      ],
      "metadata": {
        "id": "D9GYehNf2d6O"
      },
      "execution_count": 24,
      "outputs": []
    },
    {
      "cell_type": "code",
      "source": [
        "print(\"First element:\",arr[0])\n",
        "print(\"Last elment:\",arr[-1])\n",
        "print(\"Slice [1:4]:\",arr[1:4])"
      ],
      "metadata": {
        "colab": {
          "base_uri": "https://localhost:8080/"
        },
        "id": "-b2KW93i2pbk",
        "outputId": "e1feb78b-26aa-4f16-8a14-4f489fb1759e"
      },
      "execution_count": 25,
      "outputs": [
        {
          "output_type": "stream",
          "name": "stdout",
          "text": [
            "First element: 10\n",
            "Last elment: 50\n",
            "Slice [1:4]: [20 30 40]\n"
          ]
        }
      ]
    },
    {
      "cell_type": "code",
      "source": [],
      "metadata": {
        "id": "ciDTRB7l3JNA"
      },
      "execution_count": null,
      "outputs": []
    }
  ]
}