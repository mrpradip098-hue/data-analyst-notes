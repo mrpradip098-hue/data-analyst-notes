{
  "nbformat": 4,
  "nbformat_minor": 0,
  "metadata": {
    "colab": {
      "provenance": []
    },
    "kernelspec": {
      "name": "python3",
      "display_name": "Python 3"
    },
    "language_info": {
      "name": "python"
    }
  },
  "cells": [
    {
      "cell_type": "code",
      "execution_count": 1,
      "metadata": {
        "id": "4XqB-BVm6B1a"
      },
      "outputs": [],
      "source": [
        "# import pandas library"
      ]
    },
    {
      "cell_type": "code",
      "source": [
        "import pandas as pd"
      ],
      "metadata": {
        "id": "QZkL8-qb7PVO"
      },
      "execution_count": 2,
      "outputs": []
    },
    {
      "cell_type": "code",
      "source": [
        "# Creating a pandas Series"
      ],
      "metadata": {
        "id": "TshVGc_i7SaT"
      },
      "execution_count": 3,
      "outputs": []
    },
    {
      "cell_type": "code",
      "source": [
        "# Create a Series from a list"
      ],
      "metadata": {
        "id": "obmTjTiE7XY6"
      },
      "execution_count": 4,
      "outputs": []
    },
    {
      "cell_type": "code",
      "source": [
        "numbers = [10,20,30,40,50]\n",
        "series1 = pd.Series(numbers)"
      ],
      "metadata": {
        "id": "Ati3XR_B7dBs"
      },
      "execution_count": 5,
      "outputs": []
    },
    {
      "cell_type": "code",
      "source": [
        "print(\"Series from list:\")\n",
        "print(series1)\n",
        "print()"
      ],
      "metadata": {
        "colab": {
          "base_uri": "https://localhost:8080/"
        },
        "id": "HX5paPSR7tci",
        "outputId": "141f6f4d-f7b2-4236-9f31-96809d46b998"
      },
      "execution_count": 7,
      "outputs": [
        {
          "output_type": "stream",
          "name": "stdout",
          "text": [
            "Series from list:\n",
            "0    10\n",
            "1    20\n",
            "2    30\n",
            "3    40\n",
            "4    50\n",
            "dtype: int64\n",
            "\n"
          ]
        }
      ]
    },
    {
      "cell_type": "code",
      "source": [
        "# Create a Series with custom index"
      ],
      "metadata": {
        "id": "pcx8ln2D73ms"
      },
      "execution_count": 8,
      "outputs": []
    },
    {
      "cell_type": "code",
      "source": [
        "series2 = pd.Series([100,200,300],\n",
        "index=['a','b','c'])"
      ],
      "metadata": {
        "id": "Ws1wbzps8QJA"
      },
      "execution_count": 9,
      "outputs": []
    },
    {
      "cell_type": "code",
      "source": [
        "print(\"Series with custom index:\")\n",
        "print(series2)\n",
        "print()"
      ],
      "metadata": {
        "id": "k9mM6UZP8hCd",
        "outputId": "e1889feb-07da-4ad9-878c-ec92845cf7f2",
        "colab": {
          "base_uri": "https://localhost:8080/"
        }
      },
      "execution_count": 10,
      "outputs": [
        {
          "output_type": "stream",
          "name": "stdout",
          "text": [
            "Series with custom index:\n",
            "a    100\n",
            "b    200\n",
            "c    300\n",
            "dtype: int64\n",
            "\n"
          ]
        }
      ]
    },
    {
      "cell_type": "code",
      "source": [
        "# Accessing elements in a Series"
      ],
      "metadata": {
        "id": "TajUN1qU80y2"
      },
      "execution_count": 11,
      "outputs": []
    },
    {
      "cell_type": "code",
      "source": [
        "print(\"Access element'b':\",\n",
        "      series2['b'])\n",
        "print()"
      ],
      "metadata": {
        "id": "GrwwCOsJ9HX_",
        "outputId": "24bc4bb7-4fa4-429f-e5c3-b3136bb9a986",
        "colab": {
          "base_uri": "https://localhost:8080/"
        }
      },
      "execution_count": 12,
      "outputs": [
        {
          "output_type": "stream",
          "name": "stdout",
          "text": [
            "Access element'b': 200\n",
            "\n"
          ]
        }
      ]
    },
    {
      "cell_type": "code",
      "source": [
        "# Perform operations on Series"
      ],
      "metadata": {
        "id": "1cKc3gUc9Z6O"
      },
      "execution_count": 13,
      "outputs": []
    },
    {
      "cell_type": "code",
      "source": [
        "print(\"Add 10 to each element:\")\n",
        "print(series2 + 10)\n",
        "print()"
      ],
      "metadata": {
        "id": "MOUxliH29kTd",
        "outputId": "2b05f07d-701e-47b0-d196-9f118ebe2db9",
        "colab": {
          "base_uri": "https://localhost:8080/"
        }
      },
      "execution_count": 15,
      "outputs": [
        {
          "output_type": "stream",
          "name": "stdout",
          "text": [
            "Add 10 to each element:\n",
            "a    110\n",
            "b    210\n",
            "c    310\n",
            "dtype: int64\n",
            "\n"
          ]
        }
      ]
    },
    {
      "cell_type": "code",
      "source": [],
      "metadata": {
        "id": "Dvx9KAgs9yQ3"
      },
      "execution_count": null,
      "outputs": []
    }
  ]
}