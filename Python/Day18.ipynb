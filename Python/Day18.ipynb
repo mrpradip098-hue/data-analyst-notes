{
  "nbformat": 4,
  "nbformat_minor": 0,
  "metadata": {
    "colab": {
      "provenance": []
    },
    "kernelspec": {
      "name": "python3",
      "display_name": "Python 3"
    },
    "language_info": {
      "name": "python"
    }
  },
  "cells": [
    {
      "cell_type": "code",
      "execution_count": 1,
      "metadata": {
        "id": "7UGuuYrkg67-"
      },
      "outputs": [],
      "source": [
        "import pandas as pd"
      ]
    },
    {
      "cell_type": "code",
      "source": [
        "data= {\n",
        "    'Name':['Alice','Bob','Charlie'],\n",
        "    'Age':[25,30,35],\n",
        "    \"City\":['Delhi','Mumbai',\"Pune\"]\n",
        "}"
      ],
      "metadata": {
        "id": "3j6NVD2AiZhS"
      },
      "execution_count": 2,
      "outputs": []
    },
    {
      "cell_type": "code",
      "source": [
        "df= pd.DataFrame(data)"
      ],
      "metadata": {
        "id": "o2mJGwCFi5tF"
      },
      "execution_count": 3,
      "outputs": []
    },
    {
      "cell_type": "code",
      "source": [
        "print(df)"
      ],
      "metadata": {
        "colab": {
          "base_uri": "https://localhost:8080/"
        },
        "id": "iJJocjy3i92A",
        "outputId": "052d55ab-0f8c-400f-bc4c-252dd01c3f23"
      },
      "execution_count": 4,
      "outputs": [
        {
          "output_type": "stream",
          "name": "stdout",
          "text": [
            "      Name  Age    City\n",
            "0    Alice   25   Delhi\n",
            "1      Bob   30  Mumbai\n",
            "2  Charlie   35    Pune\n"
          ]
        }
      ]
    },
    {
      "cell_type": "code",
      "source": [
        "import pandas as pd"
      ],
      "metadata": {
        "id": "8xpal-OJi_al"
      },
      "execution_count": 5,
      "outputs": []
    },
    {
      "cell_type": "code",
      "source": [
        "data= {'Marks':[80,90,75,60,955]}"
      ],
      "metadata": {
        "id": "NqvPwJvcjGYD"
      },
      "execution_count": 6,
      "outputs": []
    },
    {
      "cell_type": "code",
      "source": [
        "df= pd.DataFrame(data)"
      ],
      "metadata": {
        "id": "0BjKvFjbjS_b"
      },
      "execution_count": 8,
      "outputs": []
    },
    {
      "cell_type": "code",
      "source": [],
      "metadata": {
        "id": "0vtrNRzukKBw"
      },
      "execution_count": null,
      "outputs": []
    }
  ]
}