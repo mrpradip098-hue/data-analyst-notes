{
  "nbformat": 4,
  "nbformat_minor": 0,
  "metadata": {
    "colab": {
      "provenance": []
    },
    "kernelspec": {
      "name": "python3",
      "display_name": "Python 3"
    },
    "language_info": {
      "name": "python"
    }
  },
  "cells": [
    {
      "cell_type": "code",
      "execution_count": 1,
      "metadata": {
        "id": "Vi4t9TTB98Fc"
      },
      "outputs": [],
      "source": [
        "# assigning values to variables"
      ]
    },
    {
      "cell_type": "code",
      "source": [
        "name = \"Pradip\"\n",
        "age = 25\n",
        "price = 99.99"
      ],
      "metadata": {
        "id": "4YeWzBTK-T_A"
      },
      "execution_count": 2,
      "outputs": []
    },
    {
      "cell_type": "code",
      "source": [
        "# printing variable values"
      ],
      "metadata": {
        "id": "bCj3GWrh-iUx"
      },
      "execution_count": 3,
      "outputs": []
    },
    {
      "cell_type": "code",
      "source": [
        "print(name)\n",
        "print(age)\n",
        "print(price)"
      ],
      "metadata": {
        "colab": {
          "base_uri": "https://localhost:8080/"
        },
        "id": "XRoIB0ur-qBD",
        "outputId": "277d6a1e-1a22-4b54-9adb-c924bf87f32b"
      },
      "execution_count": 4,
      "outputs": [
        {
          "output_type": "stream",
          "name": "stdout",
          "text": [
            "Pradip\n",
            "25\n",
            "99.99\n"
          ]
        }
      ]
    },
    {
      "cell_type": "code",
      "source": [
        "x = 10"
      ],
      "metadata": {
        "id": "4Mg6WGUJ-xzJ"
      },
      "execution_count": 5,
      "outputs": []
    },
    {
      "cell_type": "code",
      "source": [
        "print(x)"
      ],
      "metadata": {
        "colab": {
          "base_uri": "https://localhost:8080/"
        },
        "id": "quO0NEm9-4c8",
        "outputId": "087a82e8-832d-4002-ac0f-34a56c18c3c8"
      },
      "execution_count": 6,
      "outputs": [
        {
          "output_type": "stream",
          "name": "stdout",
          "text": [
            "10\n"
          ]
        }
      ]
    },
    {
      "cell_type": "code",
      "source": [
        "x = 20"
      ],
      "metadata": {
        "id": "IdmleKz0-6W6"
      },
      "execution_count": 7,
      "outputs": []
    },
    {
      "cell_type": "code",
      "source": [
        "print(x)"
      ],
      "metadata": {
        "colab": {
          "base_uri": "https://localhost:8080/"
        },
        "id": "jor8UUHH-8il",
        "outputId": "d3e9cf65-3e28-4ac4-ec03-92f449d033fe"
      },
      "execution_count": 8,
      "outputs": [
        {
          "output_type": "stream",
          "name": "stdout",
          "text": [
            "20\n"
          ]
        }
      ]
    },
    {
      "cell_type": "code",
      "source": [
        "a,b,c =  5,10,15"
      ],
      "metadata": {
        "id": "tBLxf4ds-_FT"
      },
      "execution_count": 9,
      "outputs": []
    },
    {
      "cell_type": "code",
      "source": [
        "print(a,b,c)"
      ],
      "metadata": {
        "colab": {
          "base_uri": "https://localhost:8080/"
        },
        "id": "bYbA8OSA_FE7",
        "outputId": "ff1d4e42-66a6-4ace-9638-eb79c558859c"
      },
      "execution_count": 10,
      "outputs": [
        {
          "output_type": "stream",
          "name": "stdout",
          "text": [
            "5 10 15\n"
          ]
        }
      ]
    },
    {
      "cell_type": "code",
      "source": [
        "x = y  = z = 100"
      ],
      "metadata": {
        "id": "A3Jgw6Wq_HwQ"
      },
      "execution_count": 11,
      "outputs": []
    },
    {
      "cell_type": "code",
      "source": [
        "print (x,y,z)"
      ],
      "metadata": {
        "colab": {
          "base_uri": "https://localhost:8080/"
        },
        "id": "AtasyuUq_N1z",
        "outputId": "4b6c73a8-5d1a-4a0c-c99b-0741429766e9"
      },
      "execution_count": 12,
      "outputs": [
        {
          "output_type": "stream",
          "name": "stdout",
          "text": [
            "100 100 100\n"
          ]
        }
      ]
    },
    {
      "cell_type": "code",
      "source": [
        "# program using variables"
      ],
      "metadata": {
        "id": "lYKD-cxF_RFl"
      },
      "execution_count": 13,
      "outputs": []
    },
    {
      "cell_type": "code",
      "source": [
        "name = \"Alice\""
      ],
      "metadata": {
        "id": "gsxkcvZF_aov"
      },
      "execution_count": 14,
      "outputs": []
    },
    {
      "cell_type": "code",
      "source": [
        "age = 30"
      ],
      "metadata": {
        "id": "OrtWyYcq_eyi"
      },
      "execution_count": 15,
      "outputs": []
    },
    {
      "cell_type": "code",
      "source": [
        "salary = 50000"
      ],
      "metadata": {
        "id": "UPNp3CXw_gcW"
      },
      "execution_count": 16,
      "outputs": []
    },
    {
      "cell_type": "code",
      "source": [
        "print(\"Employee Name:\",name)\n",
        "print(\"Age\",age)\n",
        "print(\"Salary\",salary)"
      ],
      "metadata": {
        "colab": {
          "base_uri": "https://localhost:8080/"
        },
        "id": "O9kyuAYH_jLy",
        "outputId": "fa8e255d-f386-496e-c0fe-3678cb372ca2"
      },
      "execution_count": 18,
      "outputs": [
        {
          "output_type": "stream",
          "name": "stdout",
          "text": [
            "Employee Name: Alice\n",
            "Age 30\n",
            "Salary 50000\n"
          ]
        }
      ]
    },
    {
      "cell_type": "code",
      "source": [],
      "metadata": {
        "id": "0HMxhMm2_ktx"
      },
      "execution_count": null,
      "outputs": []
    }
  ]
}