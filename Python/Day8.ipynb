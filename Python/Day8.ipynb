{
  "nbformat": 4,
  "nbformat_minor": 0,
  "metadata": {
    "colab": {
      "provenance": []
    },
    "kernelspec": {
      "name": "python3",
      "display_name": "Python 3"
    },
    "language_info": {
      "name": "python"
    }
  },
  "cells": [
    {
      "cell_type": "code",
      "execution_count": null,
      "metadata": {
        "id": "nQo5hodqZ4vJ"
      },
      "outputs": [],
      "source": [
        "import pandas as pd"
      ]
    },
    {
      "cell_type": "code",
      "source": [
        "# Create a Dataframe"
      ],
      "metadata": {
        "id": "oN3U2c0vaC0d"
      },
      "execution_count": null,
      "outputs": []
    },
    {
      "cell_type": "code",
      "source": [
        "data = {'Name':['Amit','Sneha','Ravi','Priya'],\n",
        "        'Age':[20,28,22,30],\n",
        "        'City':['Mumbai', 'Pune','Delhi','Banglore']}"
      ],
      "metadata": {
        "id": "1jOvXZF9aIed"
      },
      "execution_count": null,
      "outputs": []
    },
    {
      "cell_type": "code",
      "source": [
        "df =pd.DataFrame(data)"
      ],
      "metadata": {
        "id": "e6ip6uqKbEBq"
      },
      "execution_count": null,
      "outputs": []
    },
    {
      "cell_type": "code",
      "source": [
        "# Display the DataFrame"
      ],
      "metadata": {
        "id": "yXLCkf7TbHeJ"
      },
      "execution_count": null,
      "outputs": []
    },
    {
      "cell_type": "code",
      "source": [
        "print(\"Original DataFrame:\")"
      ],
      "metadata": {
        "colab": {
          "base_uri": "https://localhost:8080/"
        },
        "id": "q9Al2iQHbZev",
        "outputId": "48356943-5a91-434b-85d5-e5e7e8381420"
      },
      "execution_count": null,
      "outputs": [
        {
          "output_type": "stream",
          "name": "stdout",
          "text": [
            "Original DataFrame:\n"
          ]
        }
      ]
    },
    {
      "cell_type": "code",
      "source": [
        "print(df)"
      ],
      "metadata": {
        "colab": {
          "base_uri": "https://localhost:8080/"
        },
        "id": "To7tdnZxbiXN",
        "outputId": "4ea482f1-7fe7-44d5-d48d-92c37e37af9e"
      },
      "execution_count": null,
      "outputs": [
        {
          "output_type": "stream",
          "name": "stdout",
          "text": [
            "    Name  Age      City\n",
            "0   Amit   20    Mumbai\n",
            "1  Sneha   28      Pune\n",
            "2   Ravi   22     Delhi\n",
            "3  Priya   30  Banglore\n"
          ]
        }
      ]
    },
    {
      "cell_type": "code",
      "source": [
        "# Filter rows where Age < 25"
      ],
      "metadata": {
        "id": "vOIQymO6bktt"
      },
      "execution_count": null,
      "outputs": []
    },
    {
      "cell_type": "code",
      "source": [
        "print(df[df['Age'] > 25])"
      ],
      "metadata": {
        "colab": {
          "base_uri": "https://localhost:8080/"
        },
        "id": "dKMeGiI7bt73",
        "outputId": "f9f28d56-d741-46ae-88b2-e4aa0a9c7cda"
      },
      "execution_count": null,
      "outputs": [
        {
          "output_type": "stream",
          "name": "stdout",
          "text": [
            "    Name  Age      City\n",
            "1  Sneha   28      Pune\n",
            "3  Priya   30  Banglore\n"
          ]
        }
      ]
    },
    {
      "cell_type": "code",
      "source": [
        "# Sort by Age"
      ],
      "metadata": {
        "id": "GY5pxMFdb89B"
      },
      "execution_count": null,
      "outputs": []
    },
    {
      "cell_type": "code",
      "source": [
        "print(df.sort_values(by = 'Age'))"
      ],
      "metadata": {
        "colab": {
          "base_uri": "https://localhost:8080/"
        },
        "id": "5J1FZZ2zcBSj",
        "outputId": "d60a1f15-c934-4427-ee00-46036e1b66a3"
      },
      "execution_count": null,
      "outputs": [
        {
          "output_type": "stream",
          "name": "stdout",
          "text": [
            "    Name  Age      City\n",
            "0   Amit   20    Mumbai\n",
            "2   Ravi   22     Delhi\n",
            "1  Sneha   28      Pune\n",
            "3  Priya   30  Banglore\n"
          ]
        }
      ]
    },
    {
      "cell_type": "code",
      "source": [
        "# Display fisrt 5 rows"
      ],
      "metadata": {
        "id": "z23q6O5McTwm"
      },
      "execution_count": null,
      "outputs": []
    },
    {
      "cell_type": "code",
      "source": [
        "print(\"First 5 rows of the dataset:\")"
      ],
      "metadata": {
        "colab": {
          "base_uri": "https://localhost:8080/"
        },
        "id": "4MnjiI9OdDTK",
        "outputId": "31d79f23-254b-4a69-91c9-e8e2901b3275"
      },
      "execution_count": null,
      "outputs": [
        {
          "output_type": "stream",
          "name": "stdout",
          "text": [
            "First 5 rows of the dataset:\n"
          ]
        }
      ]
    },
    {
      "cell_type": "code",
      "source": [
        "print(df.head())"
      ],
      "metadata": {
        "colab": {
          "base_uri": "https://localhost:8080/"
        },
        "id": "x2c5Fq9idMqt",
        "outputId": "bf1baf00-c884-4aa8-c23e-e65a37e15215"
      },
      "execution_count": null,
      "outputs": [
        {
          "output_type": "stream",
          "name": "stdout",
          "text": [
            "    Name  Age      City\n",
            "0   Amit   20    Mumbai\n",
            "1  Sneha   28      Pune\n",
            "2   Ravi   22     Delhi\n",
            "3  Priya   30  Banglore\n"
          ]
        }
      ]
    },
    {
      "cell_type": "code",
      "source": [
        "# Show basic info about columns"
      ],
      "metadata": {
        "id": "gUoAm8WudUpf"
      },
      "execution_count": null,
      "outputs": []
    },
    {
      "cell_type": "code",
      "source": [
        "print(\"Dataset Info:\")"
      ],
      "metadata": {
        "colab": {
          "base_uri": "https://localhost:8080/"
        },
        "id": "fB9SrCJQdcGS",
        "outputId": "c4e96e98-1369-42fe-b62f-19b583b1099c"
      },
      "execution_count": null,
      "outputs": [
        {
          "output_type": "stream",
          "name": "stdout",
          "text": [
            "Dataset Info:\n"
          ]
        }
      ]
    },
    {
      "cell_type": "code",
      "source": [
        "print(df.info())"
      ],
      "metadata": {
        "colab": {
          "base_uri": "https://localhost:8080/"
        },
        "id": "IjHJz9wndkH3",
        "outputId": "7a0abf4f-9056-47ff-f0d9-7724e83a735c"
      },
      "execution_count": null,
      "outputs": [
        {
          "output_type": "stream",
          "name": "stdout",
          "text": [
            "<class 'pandas.core.frame.DataFrame'>\n",
            "RangeIndex: 4 entries, 0 to 3\n",
            "Data columns (total 3 columns):\n",
            " #   Column  Non-Null Count  Dtype \n",
            "---  ------  --------------  ----- \n",
            " 0   Name    4 non-null      object\n",
            " 1   Age     4 non-null      int64 \n",
            " 2   City    4 non-null      object\n",
            "dtypes: int64(1), object(2)\n",
            "memory usage: 228.0+ bytes\n",
            "None\n"
          ]
        }
      ]
    },
    {
      "cell_type": "code",
      "source": [
        "# Show basic statistics (mean, min, max )"
      ],
      "metadata": {
        "id": "iWot58JPdoU8"
      },
      "execution_count": null,
      "outputs": []
    },
    {
      "cell_type": "code",
      "source": [
        "filtered_df = df[df['Age'] > 25]"
      ],
      "metadata": {
        "id": "bitSSUqnd1Kk"
      },
      "execution_count": null,
      "outputs": []
    },
    {
      "cell_type": "code",
      "source": [
        "print(\"Filtererd rows where Age > 25:\")"
      ],
      "metadata": {
        "colab": {
          "base_uri": "https://localhost:8080/"
        },
        "id": "HZHK-QNzeEhP",
        "outputId": "0c2ef9c3-28e8-4299-b2ea-79aa3e16c5cf"
      },
      "execution_count": null,
      "outputs": [
        {
          "output_type": "stream",
          "name": "stdout",
          "text": [
            "Filtererd rows where Age > 25:\n"
          ]
        }
      ]
    },
    {
      "cell_type": "code",
      "source": [
        "# Sort data by age in desending order"
      ],
      "metadata": {
        "id": "mAINqm2VeReg"
      },
      "execution_count": null,
      "outputs": []
    },
    {
      "cell_type": "code",
      "source": [
        "sorted_df = df.sort_values(by = 'Age',ascending =False)"
      ],
      "metadata": {
        "id": "ZO22mvX_ec2k"
      },
      "execution_count": null,
      "outputs": []
    },
    {
      "cell_type": "code",
      "source": [
        "print(\"Sorted by Age(Descending):\")"
      ],
      "metadata": {
        "colab": {
          "base_uri": "https://localhost:8080/"
        },
        "id": "1sf98_RherBD",
        "outputId": "493e72fc-b6cb-4a7c-f562-5dd6353c9d13"
      },
      "execution_count": null,
      "outputs": [
        {
          "output_type": "stream",
          "name": "stdout",
          "text": [
            "Sorted by Age(Descending):\n"
          ]
        }
      ]
    },
    {
      "cell_type": "code",
      "source": [
        "print(sorted_df)"
      ],
      "metadata": {
        "colab": {
          "base_uri": "https://localhost:8080/"
        },
        "id": "7b7aGDGEfHaJ",
        "outputId": "0e16b756-0eb3-4af5-cce8-96b4073a7218"
      },
      "execution_count": null,
      "outputs": [
        {
          "output_type": "stream",
          "name": "stdout",
          "text": [
            "    Name  Age      City\n",
            "3  Priya   30  Banglore\n",
            "1  Sneha   28      Pune\n",
            "2   Ravi   22     Delhi\n",
            "0   Amit   20    Mumbai\n"
          ]
        }
      ]
    },
    {
      "cell_type": "code",
      "source": [
        "# Save filtered data to new CSV"
      ],
      "metadata": {
        "id": "LG1a0G-ofL-W"
      },
      "execution_count": null,
      "outputs": []
    },
    {
      "cell_type": "code",
      "source": [
        "filtered_df.to_csv('filtered_data.csv',index=False)"
      ],
      "metadata": {
        "id": "EdaVDu10fWbP"
      },
      "execution_count": null,
      "outputs": []
    },
    {
      "cell_type": "code",
      "source": [
        "print(\"Filtered data saved as 'filtered_data.csv'\")"
      ],
      "metadata": {
        "colab": {
          "base_uri": "https://localhost:8080/"
        },
        "id": "kfD1v-5gflHx",
        "outputId": "e2a200d5-d6d9-48c6-e172-1708bef3af61"
      },
      "execution_count": null,
      "outputs": [
        {
          "output_type": "stream",
          "name": "stdout",
          "text": [
            "Filtered data saved as 'filtered_data.csv'\n"
          ]
        }
      ]
    },
    {
      "cell_type": "code",
      "source": [],
      "metadata": {
        "id": "fonm7v3PfxMh"
      },
      "execution_count": null,
      "outputs": []
    }
  ]
}